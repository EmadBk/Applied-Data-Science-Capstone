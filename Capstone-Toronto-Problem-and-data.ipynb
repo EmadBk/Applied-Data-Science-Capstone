{
    "nbformat_minor": 1, 
    "cells": [
        {
            "source": "# New Venue implementation Analysis\n### Toronto - Canada", 
            "cell_type": "markdown", 
            "metadata": {
                "collapsed": true
            }
        }, 
        {
            "source": "## Introduction", 
            "cell_type": "markdown", 
            "metadata": {}
        }, 
        {
            "source": "This project is designed to support the decision of choosing the best neighborhoods in Toronto to stablish a new Restaurant.\n\n### Background:\n* Toronto is the provincial capital of Ontario and the most populous city in Canada, with a population of 2,731,571 in 2016, The city's population grew by 4.3% (111,779 residents) between 2006 and 2011, and 4.5% (116,511) between 2011 and 2016.\n\n* Toronto is an international centre for business and finance. Generally considered the financial capital of Canada, Toronto has a high concentration of banks and brokerage firms on Bay Street, in the Financial District. The Toronto Stock Exchange is the world's seventh-largest stock exchange by market capitalization. The city is an important centre for the media, publishing, telecommunication, information technology and film production industries, \n\n* Toronto is one of Canada's leading tourism destinations. In 2017, the Toronto-area received **43.7 million tourists**, of which 10.4 million were domestic visitors and 2.97 million were from the United States, spending a total of $8.84 billion. Toronto has an array of tourist attractions, and a rich cultural life.\n\n### The Problem Question:\nIn this fast growing city, we can see that the demand on services like restaurants is increasing, and the problem that face Everyone who consider opening a new business in Toronto is:  \n**What is the best neighborhood in Toronto to establish my new business?**\n", 
            "cell_type": "markdown", 
            "metadata": {}
        }, 
        {
            "source": "## Data", 
            "cell_type": "markdown", 
            "metadata": {}
        }, 
        {
            "source": "For the present problem we will use data collected from 3 main sources:\n\n* **Wikipedia:** This will be used to gather all the neighborhoods in Toronto.\n* **Human Development Index (HDI)** for some caractheristics such as the per capita income;\n* **Geopy:** This library will be used to get the coordinates (latitudes and longitudes) for Toronto as well as for each of its neighborhoods;\n* **Foursquare API:** Will be used to get the venues surrouding each specific neighborhood in order to cluster them and have a better understanding of how envolved a neighborhood is in the healthy foods sector.\nEach source and gathering methods is shown in the code cells below", 
            "cell_type": "markdown", 
            "metadata": {}
        }
    ], 
    "metadata": {
        "kernelspec": {
            "display_name": "Python 3.5", 
            "name": "python3", 
            "language": "python"
        }, 
        "language_info": {
            "mimetype": "text/x-python", 
            "nbconvert_exporter": "python", 
            "version": "3.5.5", 
            "name": "python", 
            "file_extension": ".py", 
            "pygments_lexer": "ipython3", 
            "codemirror_mode": {
                "version": 3, 
                "name": "ipython"
            }
        }
    }, 
    "nbformat": 4
}