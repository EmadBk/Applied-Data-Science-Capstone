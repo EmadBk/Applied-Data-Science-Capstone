{
    "nbformat_minor": 1, 
    "cells": [
        {
            "source": "# Applied Data Science Capstone", 
            "cell_type": "markdown", 
            "metadata": {
                "collapsed": true
            }
        }, 
        {
            "source": "<hr> \n\n## Week 3 Assignment: (Part 2) \n### Segmenting and Clustering Neighborhoods in Toronto\n<hr>", 
            "cell_type": "markdown", 
            "metadata": {}
        }, 
        {
            "execution_count": 1, 
            "cell_type": "code", 
            "metadata": {}, 
            "outputs": [], 
            "source": "import numpy as np \nimport pandas as pd\nfrom bs4 import BeautifulSoup\nimport requests"
        }, 
        {
            "execution_count": 2, 
            "cell_type": "code", 
            "metadata": {}, 
            "outputs": [], 
            "source": "wiki_url='https://en.wikipedia.org/wiki/List_of_postal_codes_of_Canada:_M'\n\nraw_wiki= requests.get(wiki_url).text\nsoup = BeautifulSoup(raw_wiki,'html5lib')"
        }, 
        {
            "execution_count": 3, 
            "cell_type": "code", 
            "metadata": {}, 
            "outputs": [], 
            "source": "table=soup.find('table')"
        }, 
        {
            "execution_count": 4, 
            "cell_type": "code", 
            "metadata": {}, 
            "outputs": [], 
            "source": "Postcode= []\nBorough= []\nNeighbourhood = []"
        }, 
        {
            "execution_count": 5, 
            "cell_type": "code", 
            "metadata": {}, 
            "outputs": [], 
            "source": "x=0 #counter\nfor table_cell in table.find_all('td'):\n    \n    x = x+1\n    if (x==1):\n        postal_code = table_cell.text\n    elif (x==2):\n        borough = table_cell.text\n    elif (x==3):\n        neighborhoods_data = table_cell.text\n        neighborhoods = neighborhoods_data.strip('\\n')\n        x=0 #reset counter\n                             \n        if borough == 'Not assigned':            \n            borough = []\n            neighborhoods_data=[]\n        else:\n            if neighborhoods == 'Not assigned':\n                neighborhoods = borough\n             \n            Postcode.append(postal_code)\n            Borough.append(borough)\n            Neighbourhood.append(neighborhoods)\n                    "
        }, 
        {
            "execution_count": 6, 
            "cell_type": "code", 
            "metadata": {}, 
            "outputs": [], 
            "source": "data=[]\n\nfor postcode_unique_element in set(Postcode):\n    post_value = ''\n    borough_value_var = ''\n    neighbourhood_value = ''\n    \n    for postcode_idx, postcode_element in enumerate(Postcode):\n        if postcode_unique_element == postcode_element:\n            post_value = postcode_element;\n            borough_value_var = Borough[postcode_idx]\n            \n            if neighbourhood_value == '': \n                neighbourhood_value = Neighbourhood[postcode_idx]\n            else:\n                neighbourhood_value = neighbourhood_value + ', ' + Neighbourhood[postcode_idx]\n    \n    data.append([post_value,borough_value_var,neighbourhood_value])\n\ndf = pd.DataFrame(np.array(data),columns=['PostalCode', 'Borough', 'Neighborhood'])\n"
        }, 
        {
            "source": "<hr>\n\n## PART 2", 
            "cell_type": "markdown", 
            "metadata": {}
        }, 
        {
            "execution_count": null, 
            "cell_type": "code", 
            "metadata": {}, 
            "outputs": [], 
            "source": "df.head()"
        }, 
        {
            "execution_count": null, 
            "cell_type": "code", 
            "metadata": {}, 
            "outputs": [], 
            "source": "df_latlng = pd.read_csv('http://cocl.us/Geospatial_data')\ndf_latlng.columns = ['PostalCode', 'Latitude', 'Longitude']\n\ndf_latlng.head()"
        }, 
        {
            "execution_count": null, 
            "cell_type": "code", 
            "metadata": {}, 
            "outputs": [], 
            "source": "df_join = pd.merge(df, df_latlng, on=['PostalCode'], how='inner')\ndf_join.head(15)"
        }, 
        {
            "execution_count": null, 
            "cell_type": "code", 
            "metadata": {}, 
            "outputs": [], 
            "source": ""
        }
    ], 
    "metadata": {
        "kernelspec": {
            "display_name": "Python 3.5", 
            "name": "python3", 
            "language": "python"
        }, 
        "language_info": {
            "mimetype": "text/x-python", 
            "nbconvert_exporter": "python", 
            "version": "3.5.5", 
            "name": "python", 
            "file_extension": ".py", 
            "pygments_lexer": "ipython3", 
            "codemirror_mode": {
                "version": 3, 
                "name": "ipython"
            }
        }
    }, 
    "nbformat": 4
}