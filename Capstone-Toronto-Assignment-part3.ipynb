{
    "nbformat_minor": 1, 
    "cells": [
        {
            "source": "# Applied Data Science Capstone", 
            "cell_type": "markdown", 
            "metadata": {
                "collapsed": true
            }
        }, 
        {
            "source": "<hr> \n\n## Week 3 Assignment: (Part 3) \n### Segmenting and Clustering Neighborhoods in Toronto\n<hr>", 
            "cell_type": "markdown", 
            "metadata": {}
        }, 
        {
            "source": "import numpy as np \nimport pandas as pd\nfrom bs4 import BeautifulSoup\nimport requests", 
            "cell_type": "code", 
            "metadata": {}, 
            "outputs": [], 
            "execution_count": 1
        }, 
        {
            "source": "wiki_url='https://en.wikipedia.org/wiki/List_of_postal_codes_of_Canada:_M'\n\nraw_wiki= requests.get(wiki_url).text\nsoup = BeautifulSoup(raw_wiki,'html5lib')", 
            "cell_type": "code", 
            "metadata": {}, 
            "outputs": [], 
            "execution_count": 2
        }, 
        {
            "source": "table=soup.find('table')", 
            "cell_type": "code", 
            "metadata": {}, 
            "outputs": [], 
            "execution_count": 3
        }, 
        {
            "source": "Postcode= []\nBorough= []\nNeighbourhood = []", 
            "cell_type": "code", 
            "metadata": {}, 
            "outputs": [], 
            "execution_count": 4
        }, 
        {
            "source": "x=0 #counter\nfor table_cell in table.find_all('td'):\n    \n    x = x+1\n    if (x==1):\n        postal_code = table_cell.text\n    elif (x==2):\n        borough = table_cell.text\n    elif (x==3):\n        neighborhoods_data = table_cell.text\n        neighborhoods = neighborhoods_data.strip('\\n')\n        x=0 #reset counter\n                             \n        if borough == 'Not assigned':            \n            borough = []\n            neighborhoods_data=[]\n        else:\n            if neighborhoods == 'Not assigned':\n                neighborhoods = borough\n             \n            Postcode.append(postal_code)\n            Borough.append(borough)\n            Neighbourhood.append(neighborhoods)\n                    ", 
            "cell_type": "code", 
            "metadata": {}, 
            "outputs": [], 
            "execution_count": 5
        }, 
        {
            "source": "data=[]\n\nfor postcode_unique_element in set(Postcode):\n    post_value = ''\n    borough_value_var = ''\n    neighbourhood_value = ''\n    \n    for postcode_idx, postcode_element in enumerate(Postcode):\n        if postcode_unique_element == postcode_element:\n            post_value = postcode_element;\n            borough_value_var = Borough[postcode_idx]\n            \n            if neighbourhood_value == '': \n                neighbourhood_value = Neighbourhood[postcode_idx]\n            else:\n                neighbourhood_value = neighbourhood_value + ', ' + Neighbourhood[postcode_idx]\n    \n    data.append([post_value,borough_value_var,neighbourhood_value])\n\ndf = pd.DataFrame(np.array(data),columns=['PostalCode', 'Borough', 'Neighborhood'])\n", 
            "cell_type": "code", 
            "metadata": {}, 
            "outputs": [], 
            "execution_count": 6
        }, 
        {
            "source": "<hr>\n\n## PART 2", 
            "cell_type": "markdown", 
            "metadata": {}
        }, 
        {
            "source": "df.head()", 
            "cell_type": "code", 
            "metadata": {}, 
            "outputs": [
                {
                    "output_type": "execute_result", 
                    "data": {
                        "text/plain": "  PostalCode           Borough  \\\n0        M5P   Central Toronto   \n1        M5G  Downtown Toronto   \n2        M6K      West Toronto   \n3        M6C              York   \n4        M9V         Etobicoke   \n\n                                        Neighborhood  \n0                Forest Hill North, Forest Hill West  \n1                                 Central Bay Street  \n2       Brockton, Exhibition Place, Parkdale Village  \n3                                 Humewood-Cedarvale  \n4  Albion Gardens, Beaumond Heights, Humbergate, ...  ", 
                        "text/html": "<div>\n<style scoped>\n    .dataframe tbody tr th:only-of-type {\n        vertical-align: middle;\n    }\n\n    .dataframe tbody tr th {\n        vertical-align: top;\n    }\n\n    .dataframe thead th {\n        text-align: right;\n    }\n</style>\n<table border=\"1\" class=\"dataframe\">\n  <thead>\n    <tr style=\"text-align: right;\">\n      <th></th>\n      <th>PostalCode</th>\n      <th>Borough</th>\n      <th>Neighborhood</th>\n    </tr>\n  </thead>\n  <tbody>\n    <tr>\n      <th>0</th>\n      <td>M5P</td>\n      <td>Central Toronto</td>\n      <td>Forest Hill North, Forest Hill West</td>\n    </tr>\n    <tr>\n      <th>1</th>\n      <td>M5G</td>\n      <td>Downtown Toronto</td>\n      <td>Central Bay Street</td>\n    </tr>\n    <tr>\n      <th>2</th>\n      <td>M6K</td>\n      <td>West Toronto</td>\n      <td>Brockton, Exhibition Place, Parkdale Village</td>\n    </tr>\n    <tr>\n      <th>3</th>\n      <td>M6C</td>\n      <td>York</td>\n      <td>Humewood-Cedarvale</td>\n    </tr>\n    <tr>\n      <th>4</th>\n      <td>M9V</td>\n      <td>Etobicoke</td>\n      <td>Albion Gardens, Beaumond Heights, Humbergate, ...</td>\n    </tr>\n  </tbody>\n</table>\n</div>"
                    }, 
                    "execution_count": 7, 
                    "metadata": {}
                }
            ], 
            "execution_count": 7
        }, 
        {
            "source": "df_latlng = pd.read_csv('http://cocl.us/Geospatial_data')\ndf_latlng.columns = ['PostalCode', 'Latitude', 'Longitude']", 
            "cell_type": "code", 
            "metadata": {}, 
            "outputs": [], 
            "execution_count": 8
        }, 
        {
            "source": "df_join = pd.merge(df, df_latlng, on=['PostalCode'], how='inner')\ndf_join.head()", 
            "cell_type": "code", 
            "metadata": {}, 
            "outputs": [
                {
                    "output_type": "execute_result", 
                    "data": {
                        "text/plain": "  PostalCode           Borough  \\\n0        M5P   Central Toronto   \n1        M5G  Downtown Toronto   \n2        M6K      West Toronto   \n3        M6C              York   \n4        M9V         Etobicoke   \n\n                                        Neighborhood   Latitude  Longitude  \n0                Forest Hill North, Forest Hill West  43.696948 -79.411307  \n1                                 Central Bay Street  43.657952 -79.387383  \n2       Brockton, Exhibition Place, Parkdale Village  43.636847 -79.428191  \n3                                 Humewood-Cedarvale  43.693781 -79.428191  \n4  Albion Gardens, Beaumond Heights, Humbergate, ...  43.739416 -79.588437  ", 
                        "text/html": "<div>\n<style scoped>\n    .dataframe tbody tr th:only-of-type {\n        vertical-align: middle;\n    }\n\n    .dataframe tbody tr th {\n        vertical-align: top;\n    }\n\n    .dataframe thead th {\n        text-align: right;\n    }\n</style>\n<table border=\"1\" class=\"dataframe\">\n  <thead>\n    <tr style=\"text-align: right;\">\n      <th></th>\n      <th>PostalCode</th>\n      <th>Borough</th>\n      <th>Neighborhood</th>\n      <th>Latitude</th>\n      <th>Longitude</th>\n    </tr>\n  </thead>\n  <tbody>\n    <tr>\n      <th>0</th>\n      <td>M5P</td>\n      <td>Central Toronto</td>\n      <td>Forest Hill North, Forest Hill West</td>\n      <td>43.696948</td>\n      <td>-79.411307</td>\n    </tr>\n    <tr>\n      <th>1</th>\n      <td>M5G</td>\n      <td>Downtown Toronto</td>\n      <td>Central Bay Street</td>\n      <td>43.657952</td>\n      <td>-79.387383</td>\n    </tr>\n    <tr>\n      <th>2</th>\n      <td>M6K</td>\n      <td>West Toronto</td>\n      <td>Brockton, Exhibition Place, Parkdale Village</td>\n      <td>43.636847</td>\n      <td>-79.428191</td>\n    </tr>\n    <tr>\n      <th>3</th>\n      <td>M6C</td>\n      <td>York</td>\n      <td>Humewood-Cedarvale</td>\n      <td>43.693781</td>\n      <td>-79.428191</td>\n    </tr>\n    <tr>\n      <th>4</th>\n      <td>M9V</td>\n      <td>Etobicoke</td>\n      <td>Albion Gardens, Beaumond Heights, Humbergate, ...</td>\n      <td>43.739416</td>\n      <td>-79.588437</td>\n    </tr>\n  </tbody>\n</table>\n</div>"
                    }, 
                    "execution_count": 9, 
                    "metadata": {}
                }
            ], 
            "execution_count": 9
        }, 
        {
            "source": "<hr>\n\n## PART 3", 
            "cell_type": "markdown", 
            "metadata": {}
        }, 
        {
            "source": "from geopy.geocoders import Nominatim # module to convert an address into latitude and longitude values\n\naddress = 'Toronto, CA'\n\ngeolocator = Nominatim(user_agent=\"ca_explorer\")\nlocation = geolocator.geocode(address)\nlatitude = location.latitude\nlongitude = location.longitude\nprint('The geograpical coordinate of Toronto are {}, {}.'.format(latitude, longitude))\n", 
            "cell_type": "code", 
            "metadata": {}, 
            "outputs": [
                {
                    "output_type": "stream", 
                    "name": "stdout", 
                    "text": "The geograpical coordinate of Toronto are 43.653963, -79.387207.\n"
                }
            ], 
            "execution_count": 10
        }, 
        {
            "source": "!conda install -c conda-forge folium=0.5.0 --yes \nimport folium # map rendering library\nfrom sklearn.cluster import KMeans", 
            "cell_type": "code", 
            "metadata": {}, 
            "outputs": [
                {
                    "output_type": "stream", 
                    "name": "stdout", 
                    "text": "Solving environment: done\n\n# All requested packages already installed.\n\n"
                }
            ], 
            "execution_count": 11
        }, 
        {
            "source": "df_join.head()", 
            "cell_type": "code", 
            "metadata": {}, 
            "outputs": [
                {
                    "output_type": "execute_result", 
                    "data": {
                        "text/plain": "  PostalCode           Borough  \\\n0        M5P   Central Toronto   \n1        M5G  Downtown Toronto   \n2        M6K      West Toronto   \n3        M6C              York   \n4        M9V         Etobicoke   \n\n                                        Neighborhood   Latitude  Longitude  \n0                Forest Hill North, Forest Hill West  43.696948 -79.411307  \n1                                 Central Bay Street  43.657952 -79.387383  \n2       Brockton, Exhibition Place, Parkdale Village  43.636847 -79.428191  \n3                                 Humewood-Cedarvale  43.693781 -79.428191  \n4  Albion Gardens, Beaumond Heights, Humbergate, ...  43.739416 -79.588437  ", 
                        "text/html": "<div>\n<style scoped>\n    .dataframe tbody tr th:only-of-type {\n        vertical-align: middle;\n    }\n\n    .dataframe tbody tr th {\n        vertical-align: top;\n    }\n\n    .dataframe thead th {\n        text-align: right;\n    }\n</style>\n<table border=\"1\" class=\"dataframe\">\n  <thead>\n    <tr style=\"text-align: right;\">\n      <th></th>\n      <th>PostalCode</th>\n      <th>Borough</th>\n      <th>Neighborhood</th>\n      <th>Latitude</th>\n      <th>Longitude</th>\n    </tr>\n  </thead>\n  <tbody>\n    <tr>\n      <th>0</th>\n      <td>M5P</td>\n      <td>Central Toronto</td>\n      <td>Forest Hill North, Forest Hill West</td>\n      <td>43.696948</td>\n      <td>-79.411307</td>\n    </tr>\n    <tr>\n      <th>1</th>\n      <td>M5G</td>\n      <td>Downtown Toronto</td>\n      <td>Central Bay Street</td>\n      <td>43.657952</td>\n      <td>-79.387383</td>\n    </tr>\n    <tr>\n      <th>2</th>\n      <td>M6K</td>\n      <td>West Toronto</td>\n      <td>Brockton, Exhibition Place, Parkdale Village</td>\n      <td>43.636847</td>\n      <td>-79.428191</td>\n    </tr>\n    <tr>\n      <th>3</th>\n      <td>M6C</td>\n      <td>York</td>\n      <td>Humewood-Cedarvale</td>\n      <td>43.693781</td>\n      <td>-79.428191</td>\n    </tr>\n    <tr>\n      <th>4</th>\n      <td>M9V</td>\n      <td>Etobicoke</td>\n      <td>Albion Gardens, Beaumond Heights, Humbergate, ...</td>\n      <td>43.739416</td>\n      <td>-79.588437</td>\n    </tr>\n  </tbody>\n</table>\n</div>"
                    }, 
                    "execution_count": 12, 
                    "metadata": {}
                }
            ], 
            "execution_count": 12
        }, 
        {
            "source": "## Clustered Map of Toronto", 
            "cell_type": "markdown", 
            "metadata": {}
        }, 
        {
            "source": "map = folium.Map(location=[latitude, longitude], zoom_start=12)\n\nX = df_join['Latitude']\nY = df_join['Longitude']\nZ = np.stack((X, Y), axis=1)\n\nkmeans = KMeans(n_clusters=4, random_state=0).fit(Z)\n\nclusters = kmeans.labels_\ncolors = ['red', 'green', 'blue', 'yellow']\ndf_join['Cluster'] = clusters\n\nfor latitude, longitude, borough, cluster in zip(df_join['Latitude'], df_join['Longitude'], df_join['Borough'], df_join['Cluster']):\n    label = folium.Popup(borough, parse_html=True)\n    folium.CircleMarker(\n        [latitude, longitude],\n        radius=5,\n        popup=label,\n        color='black',\n        fill=True,\n        fill_color=colors[cluster],\n        fill_opacity=0.7).add_to(map)  \n\nmap", 
            "cell_type": "code", 
            "metadata": {
                "scrolled": true
            }, 
            "outputs": [
                {
                    "output_type": "error", 
                    "evalue": "name 'KMeans' is not defined", 
                    "traceback": [
                        "\u001b[0;31m---------------------------------------------------------------------------\u001b[0m", 
                        "\u001b[0;31mNameError\u001b[0m                                 Traceback (most recent call last)", 
                        "\u001b[0;32m<ipython-input-14-0581d5356cfc>\u001b[0m in \u001b[0;36m<module>\u001b[0;34m()\u001b[0m\n\u001b[1;32m      5\u001b[0m \u001b[0mZ\u001b[0m \u001b[0;34m=\u001b[0m \u001b[0mnp\u001b[0m\u001b[0;34m.\u001b[0m\u001b[0mstack\u001b[0m\u001b[0;34m(\u001b[0m\u001b[0;34m(\u001b[0m\u001b[0mX\u001b[0m\u001b[0;34m,\u001b[0m \u001b[0mY\u001b[0m\u001b[0;34m)\u001b[0m\u001b[0;34m,\u001b[0m \u001b[0maxis\u001b[0m\u001b[0;34m=\u001b[0m\u001b[0;36m1\u001b[0m\u001b[0;34m)\u001b[0m\u001b[0;34m\u001b[0m\u001b[0m\n\u001b[1;32m      6\u001b[0m \u001b[0;34m\u001b[0m\u001b[0m\n\u001b[0;32m----> 7\u001b[0;31m \u001b[0mkmeans\u001b[0m \u001b[0;34m=\u001b[0m \u001b[0mKMeans\u001b[0m\u001b[0;34m(\u001b[0m\u001b[0mn_clusters\u001b[0m\u001b[0;34m=\u001b[0m\u001b[0;36m4\u001b[0m\u001b[0;34m,\u001b[0m \u001b[0mrandom_state\u001b[0m\u001b[0;34m=\u001b[0m\u001b[0;36m0\u001b[0m\u001b[0;34m)\u001b[0m\u001b[0;34m.\u001b[0m\u001b[0mfit\u001b[0m\u001b[0;34m(\u001b[0m\u001b[0mZ\u001b[0m\u001b[0;34m)\u001b[0m\u001b[0;34m\u001b[0m\u001b[0m\n\u001b[0m\u001b[1;32m      8\u001b[0m \u001b[0;34m\u001b[0m\u001b[0m\n\u001b[1;32m      9\u001b[0m \u001b[0mclusters\u001b[0m \u001b[0;34m=\u001b[0m \u001b[0mkmeans\u001b[0m\u001b[0;34m.\u001b[0m\u001b[0mlabels_\u001b[0m\u001b[0;34m\u001b[0m\u001b[0m\n", 
                        "\u001b[0;31mNameError\u001b[0m: name 'KMeans' is not defined"
                    ], 
                    "ename": "NameError"
                }
            ], 
            "execution_count": 14
        }, 
        {
            "source": "### Now, you can notice how the region of Toronto neighborhood is segmented into 4 clusters in the above map", 
            "cell_type": "markdown", 
            "metadata": {}
        }
    ], 
    "metadata": {
        "kernelspec": {
            "display_name": "Python 3.5", 
            "name": "python3", 
            "language": "python"
        }, 
        "language_info": {
            "mimetype": "text/x-python", 
            "nbconvert_exporter": "python", 
            "version": "3.5.5", 
            "name": "python", 
            "pygments_lexer": "ipython3", 
            "file_extension": ".py", 
            "codemirror_mode": {
                "version": 3, 
                "name": "ipython"
            }
        }
    }, 
    "nbformat": 4
}